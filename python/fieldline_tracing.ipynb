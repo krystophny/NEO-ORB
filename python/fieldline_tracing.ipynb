{
 "cells": [
  {
   "cell_type": "code",
   "execution_count": 59,
   "metadata": {},
   "outputs": [
    {
     "data": {
      "image/png": "[encoded data removed]",
      "text/plain": [
       "<Figure size 432x288 with 1 Axes>"
      ]
     },
     "metadata": {
      "needs_background": "light"
     },
     "output_type": "display_data"
    }
   ],
   "source": [
    "import numpy as np\n",
    "import matplotlib.pyplot as plt\n",
    "from scipy.optimize import root\n",
    "from scipy.interpolate import lagrange\n",
    "from common import f\n",
    "\n",
    "nturn = 100   # number of toroidal turns\n",
    "perturn = 10   # steps per toroidal turn\n",
    "nstep = nturn*perturn  # total number of steps\n",
    "dphi = 2*np.pi/perturn # step width\n",
    "\n",
    "# Define magnetic field perturbation to get stochastic field\n",
    "eps = 0.05\n",
    "n = 2\n",
    "def pert(ph): return eps*np.cos(n*ph)\n",
    "\n",
    "def evaluate_pert(r, th, ph):\n",
    "    f.evaluate(r, th, ph)\n",
    "    return [f.Ath*(1.0 + pert(ph)), f.Aph*(1.0 + pert(ph)), \n",
    "            f.dAth*(1.0 + pert(ph)), f.dAph*(1.0 + pert(ph))]\n",
    "\n",
    "def F(r, th, ph, pthold):\n",
    "    [Ath, Aph, dAth, dAph] = evaluate_pert(r, th, ph)\n",
    "    return dAth[0]*(Ath - pthold) - dphi*(dAth[0]*dAph[1] + dAth[1]*dAph[0])\n",
    "\n",
    "z0s = [[0.2, 0.1, 0.0],\n",
    "       [0.25, 0.1, 0.0],\n",
    "       [0.3, 0.1, 0.0],\n",
    "       [0.35, 0.1, 0.0],\n",
    "       [0.4, 0.1, 0.0]]\n",
    "norb = len(z0s)                  \n",
    "    \n",
    "plt.figure()    \n",
    "for z0 in z0s:\n",
    "    z = np.zeros([3,nstep+1])\n",
    "    z[:,0] = z0\n",
    "    [Ath, Aph, dAth, dAph] = evaluate_pert(z0[0], z0[1], z0[2])\n",
    "    pth = Ath\n",
    "    for kt in range(nstep):\n",
    "        pthold = pth\n",
    "        r0 = z[0,kt]\n",
    "\n",
    "        # Implicit substep in r \n",
    "        sol = root(F, r0, method='hybr', tol=1e-12, args=(z[1,kt], z[2,kt], pthold))\n",
    "        z[0,kt+1] = sol.x\n",
    "\n",
    "        # Explicit substep in th\n",
    "        [Ath, Aph, dAth, dAph] = evaluate_pert(sol.x, z[1,kt], z[2,kt])\n",
    "        z[1,kt+1] = z[1,kt] - dphi*dAph[0]/dAth[0]\n",
    "        z[2,kt+1] = z[2,kt] + dphi\n",
    "\n",
    "    plt.plot(z[0, :]*np.cos(z[1, :]), z[0, :]*np.sin(z[1, :]), ',')\n",
    "    \n",
    "plt.axis('equal')\n",
    "plt.show()"
   ]
  },
  {
   "cell_type": "code",
   "execution_count": null,
   "metadata": {},
   "outputs": [],
   "source": []
  }
 ],
 "metadata": {
  "kernelspec": {
   "display_name": "Python 3",
   "language": "python",
   "name": "python3"
  },
  "language_info": {
   "codemirror_mode": {
    "name": "ipython",
    "version": 3
   },
   "file_extension": ".py",
   "mimetype": "text/x-python",
   "name": "python",
   "nbconvert_exporter": "python",
   "pygments_lexer": "ipython3",
   "version": "3.7.3"
  }
 },
 "nbformat": 4,
 "nbformat_minor": 2
}
